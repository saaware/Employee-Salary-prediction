{
 "cells": [
  {
   "cell_type": "code",
   "execution_count": 92,
   "id": "0f4143a3",
   "metadata": {},
   "outputs": [],
   "source": [
    "import pandas as pd\n",
    "import numpy as np\n",
    "import seaborn as sns"
   ]
  },
  {
   "cell_type": "code",
   "execution_count": 93,
   "id": "a44987d6",
   "metadata": {},
   "outputs": [],
   "source": [
    "df=pd.read_csv(\"Salary_Data.csv\")"
   ]
  },
  {
   "cell_type": "code",
   "execution_count": 94,
   "id": "b91172d1",
   "metadata": {},
   "outputs": [
    {
     "data": {
      "text/plain": [
       "30"
      ]
     },
     "execution_count": 94,
     "metadata": {},
     "output_type": "execute_result"
    }
   ],
   "source": [
    "df['Salary'].count()"
   ]
  },
  {
   "cell_type": "code",
   "execution_count": 95,
   "id": "c7a3f5b2",
   "metadata": {
    "scrolled": true
   },
   "outputs": [
    {
     "name": "stdout",
     "output_type": "stream",
     "text": [
      "<class 'pandas.core.frame.DataFrame'>\n",
      "RangeIndex: 30 entries, 0 to 29\n",
      "Data columns (total 2 columns):\n",
      " #   Column           Non-Null Count  Dtype  \n",
      "---  ------           --------------  -----  \n",
      " 0   YearsExperience  30 non-null     float64\n",
      " 1   Salary           30 non-null     float64\n",
      "dtypes: float64(2)\n",
      "memory usage: 608.0 bytes\n"
     ]
    }
   ],
   "source": [
    "df.info()"
   ]
  },
  {
   "cell_type": "code",
   "execution_count": 96,
   "id": "b486fd86",
   "metadata": {},
   "outputs": [],
   "source": [
    "df['Salary']=df['Salary'].astype(int) # convert float to int datatype"
   ]
  },
  {
   "cell_type": "code",
   "execution_count": 210,
   "id": "ed09c1d2",
   "metadata": {},
   "outputs": [],
   "source": [
    "x=df.iloc[:,:-1].values"
   ]
  },
  {
   "cell_type": "code",
   "execution_count": 213,
   "id": "17502b9b",
   "metadata": {},
   "outputs": [],
   "source": [
    "y=df.iloc[:,1].values"
   ]
  },
  {
   "cell_type": "code",
   "execution_count": 214,
   "id": "3a4820d8",
   "metadata": {},
   "outputs": [
    {
     "data": {
      "text/plain": [
       "array([ 39343,  46205,  37731,  43525,  39891,  56642,  60150,  54445,\n",
       "        64445,  57189,  63218,  55794,  56957,  57081,  61111,  67938,\n",
       "        66029,  83088,  81363,  93940,  91738,  98273, 101302, 113812,\n",
       "       109431, 105582, 116969, 112635, 122391, 121872])"
      ]
     },
     "execution_count": 214,
     "metadata": {},
     "output_type": "execute_result"
    }
   ],
   "source": [
    "y"
   ]
  },
  {
   "cell_type": "code",
   "execution_count": 100,
   "id": "86a1508c",
   "metadata": {},
   "outputs": [],
   "source": [
    "# play with data like draw some graphs"
   ]
  },
  {
   "cell_type": "code",
   "execution_count": 101,
   "id": "18976a37",
   "metadata": {},
   "outputs": [],
   "source": [
    "#distplot , barplot ,boxplot ,countplot,heatmap"
   ]
  },
  {
   "cell_type": "code",
   "execution_count": 105,
   "id": "074d5955",
   "metadata": {},
   "outputs": [
    {
     "data": {
      "text/plain": [
       "<AxesSubplot:xlabel='YearsExperience'>"
      ]
     },
     "execution_count": 105,
     "metadata": {},
     "output_type": "execute_result"
    },
    {
     "data": {
      "image/png": "[encoded data removed]",
      "text/plain": [
       "<Figure size 432x288 with 1 Axes>"
      ]
     },
     "metadata": {
      "needs_background": "light"
     },
     "output_type": "display_data"
    }
   ],
   "source": [
    "# distplot\n",
    "\n",
    "sns.distplot(df['YearsExperience'],kde=False,bins=10 )"
   ]
  },
  {
   "cell_type": "code",
   "execution_count": 114,
   "id": "6c06678e",
   "metadata": {},
   "outputs": [
    {
     "data": {
      "text/plain": [
       "<AxesSubplot:xlabel='YearsExperience', ylabel='count'>"
      ]
     },
     "execution_count": 114,
     "metadata": {},
     "output_type": "execute_result"
    },
    {
     "data": {
      "image/png": "[encoded data removed]",
      "text/plain": [
       "<Figure size 432x288 with 1 Axes>"
      ]
     },
     "metadata": {
      "needs_background": "light"
     },
     "output_type": "display_data"
    }
   ],
   "source": [
    "# countplot\n",
    "sns.countplot(x='YearsExperience',data=df,)"
   ]
  },
  {
   "cell_type": "code",
   "execution_count": 118,
   "id": "8f41056c",
   "metadata": {},
   "outputs": [
    {
     "name": "stderr",
     "output_type": "stream",
     "text": [
      "c:\\users\\saaware.partners\\appdata\\local\\programs\\python\\python39\\lib\\site-packages\\seaborn\\_decorators.py:36: FutureWarning: Pass the following variable as a keyword arg: x. From version 0.12, the only valid positional argument will be `data`, and passing other arguments without an explicit keyword will result in an error or misinterpretation.\n",
      "  warnings.warn(\n"
     ]
    },
    {
     "data": {
      "text/plain": [
       "<AxesSubplot:xlabel='Salary'>"
      ]
     },
     "execution_count": 118,
     "metadata": {},
     "output_type": "execute_result"
    },
    {
     "data": {
      "image/png": "[encoded data removed]",
      "text/plain": [
       "<Figure size 432x288 with 1 Axes>"
      ]
     },
     "metadata": {
      "needs_background": "light"
     },
     "output_type": "display_data"
    }
   ],
   "source": [
    "#boxplot\n",
    "sns.boxplot('Salary',data=df)"
   ]
  },
  {
   "cell_type": "code",
   "execution_count": 121,
   "id": "f38de915",
   "metadata": {},
   "outputs": [
    {
     "data": {
      "text/plain": [
       "<AxesSubplot:>"
      ]
     },
     "execution_count": 121,
     "metadata": {},
     "output_type": "execute_result"
    },
    {
     "data": {
      "image/png": "[encoded data removed]",
      "text/plain": [
       "<Figure size 432x288 with 2 Axes>"
      ]
     },
     "metadata": {
      "needs_background": "light"
     },
     "output_type": "display_data"
    }
   ],
   "source": [
    "#heatmap\n",
    "sns.heatmap(df.corr())"
   ]
  },
  {
   "cell_type": "code",
   "execution_count": 122,
   "id": "0eeba62c",
   "metadata": {},
   "outputs": [
    {
     "data": {
      "text/plain": [
       "<AxesSubplot:>"
      ]
     },
     "execution_count": 122,
     "metadata": {},
     "output_type": "execute_result"
    },
    {
     "data": {
      "image/png": "[encoded data removed]",
      "text/plain": [
       "<Figure size 432x288 with 2 Axes>"
      ]
     },
     "metadata": {
      "needs_background": "light"
     },
     "output_type": "display_data"
    }
   ],
   "source": [
    "sns.heatmap(df)"
   ]
  },
  {
   "cell_type": "markdown",
   "id": "1caf0035",
   "metadata": {},
   "source": [
    "# Start Linear regression\n",
    "\n",
    "-->Linear regression id like if the experirnce increases then similary salary also increases (both are relationa or linear)"
   ]
  },
  {
   "cell_type": "markdown",
   "id": "6f2bcfd8",
   "metadata": {},
   "source": [
    "# Step1: Split the data 33% for testing and remain for training"
   ]
  },
  {
   "cell_type": "code",
   "execution_count": 169,
   "id": "7e89d41d",
   "metadata": {},
   "outputs": [],
   "source": [
    "from sklearn.model_selection import train_test_split   #scalar learn package"
   ]
  },
  {
   "cell_type": "code",
   "execution_count": 170,
   "id": "ca1302eb",
   "metadata": {},
   "outputs": [],
   "source": [
    "X_train , X_test, Y_train, Y_test = train_test_split(x,y,test_size=1/3,random_state=0)"
   ]
  },
  {
   "cell_type": "markdown",
   "id": "ac856013",
   "metadata": {},
   "source": [
    "So here , X_train contain \"x column\" value and amount of value is =total_column value count - 1/3 (test_size) mean 30-30/3=20\n",
    "\n",
    "And same X_test contain \"x column\" value but 1/3 of total value means = 30/3= 10"
   ]
  },
  {
   "cell_type": "markdown",
   "id": "8f20f6a5",
   "metadata": {},
   "source": [
    "Similaryly , Y_train contain y variable value and its = 30 -30/3= 20\n",
    "\n",
    "Y_test contain y variable value like 30/3 = 10\n",
    "\n",
    "Note: 30 is total numbers of records in x and y variables / colums and 1/3 is test_size of data"
   ]
  },
  {
   "cell_type": "code",
   "execution_count": 171,
   "id": "3941f87d",
   "metadata": {},
   "outputs": [
    {
     "data": {
      "text/plain": [
       "array([[ 1.5],\n",
       "       [10.3],\n",
       "       [ 4.1],\n",
       "       [ 3.9],\n",
       "       [ 9.5],\n",
       "       [ 8.7],\n",
       "       [ 9.6],\n",
       "       [ 4. ],\n",
       "       [ 5.3],\n",
       "       [ 7.9]])"
      ]
     },
     "execution_count": 171,
     "metadata": {},
     "output_type": "execute_result"
    }
   ],
   "source": [
    "X_test"
   ]
  },
  {
   "cell_type": "markdown",
   "id": "f4ac7a08",
   "metadata": {},
   "source": [
    "# step2: Fitting Simple linear regression to the training set"
   ]
  },
  {
   "cell_type": "code",
   "execution_count": 172,
   "id": "b0a970fb",
   "metadata": {},
   "outputs": [],
   "source": [
    "from sklearn.linear_model import LinearRegression\n"
   ]
  },
  {
   "cell_type": "code",
   "execution_count": 185,
   "id": "16b393ff",
   "metadata": {},
   "outputs": [
    {
     "data": {
      "text/plain": [
       "LinearRegression()"
      ]
     },
     "execution_count": 185,
     "metadata": {},
     "output_type": "execute_result"
    }
   ],
   "source": [
    "lr = LinearRegression()\n",
    "\n",
    "# here we are passing both variables like : X_train -->independed variable and Y_train -->dependent variable \n",
    "#so the system will leanr from it\n",
    "\n",
    "lr.fit(X_train,Y_train) "
   ]
  },
  {
   "cell_type": "markdown",
   "id": "4a426af6",
   "metadata": {},
   "source": [
    "# step3) :Predicting the test set Result"
   ]
  },
  {
   "cell_type": "markdown",
   "id": "8d180faf",
   "metadata": {},
   "source": [
    "So here using \"predict\" menthod we can predict the result based on passing independent X_test values\n",
    "\n",
    "here we dont pass Y_test becasue this one model has to predict result"
   ]
  },
  {
   "cell_type": "code",
   "execution_count": 187,
   "id": "8f81f418",
   "metadata": {},
   "outputs": [
    {
     "data": {
      "text/plain": [
       "array([ 40835.10590871, 123079.39940819,  65134.55626083,  63265.36777221,\n",
       "       115602.64545369, 108125.8914992 , 116537.23969801,  64199.96201652,\n",
       "        76349.68719258, 100649.1375447 ])"
      ]
     },
     "execution_count": 187,
     "metadata": {},
     "output_type": "execute_result"
    }
   ],
   "source": [
    "pre_result =lr.predict(X_test)\n",
    "pre_result"
   ]
  },
  {
   "cell_type": "markdown",
   "id": "39ab0698",
   "metadata": {},
   "source": [
    "# Step 4: Now we have predicted result , so lets Visualize this predicted result "
   ]
  },
  {
   "cell_type": "code",
   "execution_count": 175,
   "id": "9a2bc55e",
   "metadata": {},
   "outputs": [],
   "source": [
    "import matplotlib.pyplot as plt \n",
    "%matplotlib inline\n"
   ]
  },
  {
   "cell_type": "markdown",
   "id": "28374bd0",
   "metadata": {},
   "source": [
    "Train the data set graph :\n",
    "\n",
    "So here we can see that our model trained dataset and provide proper middle level line of data \n",
    "\n",
    "all the velus are near the linear line like below"
   ]
  },
  {
   "cell_type": "code",
   "execution_count": 180,
   "id": "f253d2bc",
   "metadata": {},
   "outputs": [
    {
     "data": {
      "text/plain": [
       "Text(0, 0.5, 'Salary')"
      ]
     },
     "execution_count": 180,
     "metadata": {},
     "output_type": "execute_result"
    },
    {
     "data": {
      "image/png": "[encoded data removed]",
      "text/plain": [
       "<Figure size 432x288 with 1 Axes>"
      ]
     },
     "metadata": {
      "needs_background": "light"
     },
     "output_type": "display_data"
    }
   ],
   "source": [
    "plt.scatter(X_train,Y_train,color='blue')\n",
    "plt.plot(X_train,lr.predict(X_train),color='red')\n",
    "plt.title(\"Salary prediction\")\n",
    "plt.xlabel(\"Years of experince\")\n",
    "plt.ylabel(\"Salary\")\n"
   ]
  },
  {
   "cell_type": "markdown",
   "id": "ae10cc8b",
   "metadata": {},
   "source": [
    "Test the dataset graph : So here we can see the redicted result graph below\n",
    "\n",
    "Here example: 4 year experience can earn upto 6000 rs ( below two points are error , its should be neded on line where 6000 present"
   ]
  },
  {
   "cell_type": "code",
   "execution_count": 181,
   "id": "8996713d",
   "metadata": {},
   "outputs": [
    {
     "data": {
      "text/plain": [
       "Text(0, 0.5, 'Salary')"
      ]
     },
     "execution_count": 181,
     "metadata": {},
     "output_type": "execute_result"
    },
    {
     "data": {
      "image/png": "[encoded data removed]",
      "text/plain": [
       "<Figure size 432x288 with 1 Axes>"
      ]
     },
     "metadata": {
      "needs_background": "light"
     },
     "output_type": "display_data"
    }
   ],
   "source": [
    "plt.scatter(X_test,Y_test,color='blue')\n",
    "plt.plot(X_test,lr.predict(X_test),color='red')\n",
    "plt.title(\"Salary prediction\")\n",
    "plt.xlabel(\"Years of experince\")\n",
    "plt.ylabel(\"Salary\")"
   ]
  },
  {
   "cell_type": "markdown",
   "id": "a3fb0c85",
   "metadata": {},
   "source": [
    "# Step 5: Find the mean of predicted values : Or residuals ( error in predcited values)"
   ]
  },
  {
   "cell_type": "markdown",
   "id": "17c94ec6",
   "metadata": {},
   "source": [
    "Here below square of means need to be minimum, which means result will be more accurete if those are minimum values"
   ]
  },
  {
   "cell_type": "code",
   "execution_count": 216,
   "id": "40a393ec",
   "metadata": {},
   "outputs": [
    {
     "name": "stdout",
     "output_type": "stream",
     "text": [
      "MAE: 3426.4269374307078\n",
      "MSE: 21026037.329511296\n",
      "RMSE: 58.535689433291104\n"
     ]
    }
   ],
   "source": [
    "#caculate Residuals (error values)\n",
    "from sklearn  import  metrics \n",
    "print ('MAE:',metrics.mean_absolute_error(Y_test,pre_result))\n",
    "print('MSE:',metrics.mean_squared_error(Y_test,pre_result))\n",
    "print('RMSE:',np.sqrt(metrics.mean_absolute_error(Y_test,pre_result)))"
   ]
  },
  {
   "cell_type": "code",
   "execution_count": null,
   "id": "5f3e58d7",
   "metadata": {},
   "outputs": [],
   "source": []
  },
  {
   "cell_type": "code",
   "execution_count": null,
   "id": "dcb401cc",
   "metadata": {},
   "outputs": [],
   "source": []
  }
 ],
 "metadata": {
  "kernelspec": {
   "display_name": "Python 3 (ipykernel)",
   "language": "python",
   "name": "python3"
  },
  "language_info": {
   "codemirror_mode": {
    "name": "ipython",
    "version": 3
   },
   "file_extension": ".py",
   "mimetype": "text/x-python",
   "name": "python",
   "nbconvert_exporter": "python",
   "pygments_lexer": "ipython3",
   "version": "3.9.4"
  }
 },
 "nbformat": 4,
 "nbformat_minor": 5
}
